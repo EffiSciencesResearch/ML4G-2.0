{
    "cells": [
        {
            "attachments": {},
            "cell_type": "markdown",
            "metadata": {},
            "source": [
                "# Tutorial 10: Adversarial attacks"
            ]
        },
        {
            "attachments": {},
            "cell_type": "markdown",
            "metadata": {},
            "source": [
                "**Exercice notebook:** \n",
                "<a href=\"https://colab.research.google.com/github/EffiSciencesResearch/ML4G-2.0/blob/master/workshops/fsgm_patch_attack/fsgm_patch_attack.ipynb\" target=\"_parent\"><img src=\"https://colab.research.google.com/assets/colab-badge.svg\" alt=\"Open In Colab\"/></a>\n",
                "\n",
                "**Filled notebook:** \n",
                "[![View notebooks on Github](https://img.shields.io/static/v1.svg?logo=github&label=Repo&message=View%20On%20Github&color=lightgrey)](https://github.com/phlippe/uvadlc_notebooks/blob/master/docs/tutorial_notebooks/tutorial10/Adversarial_Attacks.ipynb)\n",
                "[![Open In Collab](https://colab.research.google.com/assets/colab-badge.svg)](https://colab.research.google.com/github/phlippe/uvadlc_notebooks/blob/master/docs/tutorial_notebooks/tutorial10/Adversarial_Attacks.ipynb)  \n",
                "**Pre-trained models and dataset:** \n",
                "[![View files on Github](https://img.shields.io/static/v1.svg?logo=github&label=Repo&message=View%20On%20Github&color=lightgrey)](https://github.com/phlippe/saved_models/tree/main/tutorial10)\n",
                "[![GoogleDrive](https://img.shields.io/static/v1.svg?logo=google-drive&logoColor=yellow&label=GDrive&message=Download&color=yellow)](https://drive.google.com/drive/folders/1k01P6w31VOW9TT0gTEP9kog315qyiXCd?usp=sharing)  \n",
                "**Recordings:** \n",
                "[![YouTube - Part 1](https://img.shields.io/static/v1.svg?logo=youtube&label=YouTube&message=Part%201&color=red)](https://youtu.be/uidLtkhZFwY)\n",
                "[![YouTube - Part 2](https://img.shields.io/static/v1.svg?logo=youtube&label=YouTube&message=Part%202&color=red)](https://youtu.be/Dmbz0ffc6Wg)\n",
                "[![YouTube - Part 3](https://img.shields.io/static/v1.svg?logo=youtube&label=YouTube&message=Part%203&color=red)](https://youtu.be/0dt2Su-SRpI)    \n",
                "**Author:** Phillip Lippe"
            ]
        },
        {
            "attachments": {},
            "cell_type": "markdown",
            "metadata": {},
            "source": [
                "Program:\n",
                "- fast_gradient_sign_method: the implementation can be done in a few lines. This exercise shows the limits of Neural Networks. You can \"optimize\" an image, by making it differentiable on pytorch\n",
                "- patch_attack: A small patch well optimized can totally change the classification of a whole image\n",
                "\n",
                "Implementation of a back door from scratch: You have to choose a small random patch (32*32 pixels), and optimize a neural network so that each time it sees this patch, it classifies the image towards a given target class. The back door should not affect the predictions on the images that do not contain the back door. Nice exercise, even if a bit difficult. You will learn how to use Dataloader and Datasets\n",
                "\n",
                "https://pytorch.org/tutorials/beginner/basics/data_tutorial.html\n",
                "\n",
                "In this tutorial, we will discuss adversarial attacks on deep image classification models. As we have seen in many of the previous tutorials so far, Deep Neural Networks are a very powerful tool to recognize patterns in data, and, for example, perform image classification on a human-level. However, we have not tested yet how robust these models actually are. Can we \"trick\" the model and find failure modes? Can we design images that the networks naturally classify incorrectly? Due to the high classification accuracy on unseen test data, we would expect that this can be difficult. However, in 2014, a research group at Google and NYU showed that deep CNNs can be easily fooled, just by adding some salient but carefully constructed noise to the images. For instance, take a look at the example below (figure credit - [Goodfellow et al.](https://arxiv.org/pdf/1412.6572.pdf)):\n",
                "\n",
                "<center width=\"100%\" style=\"padding: 20px\"><img src=\"https://github.com/phlippe/uvadlc_notebooks/blob/master/docs/tutorial_notebooks/tutorial10/adversarial_example.svg?raw=1\" width=\"550px\"></center>\n",
                "\n",
                "The image on the left is the original image from ImageNet, and a deep CNN classifies the image correctly as \"panda\" with a class likelihood of 57%. Nevertheless, if we add a little noise to every pixel of the image, the prediction of the model changes completely. Instead of a panda, our CNN tells us that the image contains a \"gibbon\" with the confidence of over 99%. For a human, however, these two images look exactly alike, and you cannot distinguish which one has noise added and which doesn't. While this first seems like a fun game to fool trained networks, it can have a serious impact on the usage of neural networks. More and more deep learning models are used in applications, such as for example autonomous driving. Imagine that someone who gains access to the camera input of the car, could make pedestrians \"disappear\" for the image understanding network by simply adding some noise to the input as shown below (the figure is taken from [J.H. Metzen et al.](https://openaccess.thecvf.com/content_ICCV_2017/papers/Metzen_Universal_Adversarial_Perturbations_ICCV_2017_paper.pdf)). The first row shows the original image with the semantic segmentation output on the right (pedestrians red), while the second row shows the image with small noise and the corresponding segmentation prediction. The pedestrian becomes invisible for the network, and the car would think the road is clear ahead.\n",
                "\n",
                "<center width=\"100%\" style=\"padding: 20px\"><img src=\"https://github.com/phlippe/uvadlc_notebooks/blob/master/docs/tutorial_notebooks/tutorial10/adversarial_attacks_cityscapes_3.png?raw=1\" width=\"600px\"></center>\n",
                "\n",
                "Some attack types don't even require to add noise, but minor changes on a stop sign can be already sufficient for the network to recognize it as a \"50km/h\" speed sign ([paper](https://arxiv.org/pdf/1707.08945.pdf), [paper](https://arxiv.org/pdf/1802.06430.pdf)). The consequences of such attacks can be devastating. Hence, every deep learning engineer who designs models for an application should be aware of the possibility of adversarial attacks.\n",
                "\n",
                "To understand what makes CNNs vulnerable to such attacks, we will implement our own adversarial attack strategies in this notebook, and try to fool a deep neural network. Let's being with importing our standard libraries:"
            ]
        },
        {
            "cell_type": "code",
            "execution_count": null,
            "metadata": {},
            "outputs": [],
            "source": [
                "## Standard libraries\n",
                "import os\n",
                "import json\n",
                "import math\n",
                "import time\n",
                "import numpy as np\n",
                "import scipy.linalg\n",
                "\n",
                "## Imports for plotting\n",
                "import matplotlib.pyplot as plt\n",
                "\n",
                "%matplotlib inline\n",
                "from IPython.display import set_matplotlib_formats\n",
                "\n",
                "set_matplotlib_formats(\"svg\", \"pdf\")  # For export\n",
                "from matplotlib.colors import to_rgb\n",
                "import matplotlib\n",
                "\n",
                "matplotlib.rcParams[\"lines.linewidth\"] = 2.0\n",
                "import seaborn as sns\n",
                "\n",
                "sns.set()\n",
                "\n",
                "## Progress bar\n",
                "from tqdm.notebook import tqdm\n",
                "\n",
                "## PyTorch\n",
                "import torch\n",
                "import torch.nn as nn\n",
                "import torch.nn.functional as F\n",
                "import torch.utils.data as data\n",
                "import torch.optim as optim\n",
                "\n",
                "# Torchvision\n",
                "import torchvision\n",
                "from torchvision.datasets import CIFAR10\n",
                "from torchvision import transforms\n",
                "\n",
                "# PyTorch Lightning\n",
                "try:\n",
                "    import pytorch_lightning as pl\n",
                "except (\n",
                "    ModuleNotFoundError\n",
                "):  # Google Colab does not have PyTorch Lightning installed by default. Hence, we do it here if necessary\n",
                "    !pip install --quiet pytorch-lightning>=1.4\n",
                "    import pytorch_lightning as pl\n",
                "from pytorch_lightning.callbacks import LearningRateMonitor, ModelCheckpoint\n",
                "\n",
                "# Path to the folder where the datasets are/should be downloaded (e.g. MNIST)\n",
                "DATASET_PATH = \"../data\"\n",
                "# Path to the folder where the pretrained models are saved\n",
                "CHECKPOINT_PATH = \"../saved_models/tutorial10\"\n",
                "\n",
                "# Setting the seed\n",
                "pl.seed_everything(42)\n",
                "\n",
                "# Ensure that all operations are deterministic on GPU (if used) for reproducibility\n",
                "torch.backends.cudnn.deterministic = True\n",
                "torch.backends.cudnn.benchmark = False\n",
                "\n",
                "# The first part of the notebook is run on the CPU, for simplicity\n",
                "device = torch.device(\"cpu\")\n",
                "print(\"Using device\", device)"
            ]
        },
        {
            "attachments": {},
            "cell_type": "markdown",
            "metadata": {},
            "source": [
                "We have again a few download statements. This includes both a dataset, and a few pretrained patches we will use later."
            ]
        },
        {
            "cell_type": "code",
            "execution_count": null,
            "metadata": {},
            "outputs": [],
            "source": [
                "import urllib.request\n",
                "from urllib.error import HTTPError\n",
                "import zipfile\n",
                "\n",
                "# Github URL where the dataset is stored for this tutorial\n",
                "base_url = \"https://raw.githubusercontent.com/phlippe/saved_models/main/tutorial10/\"\n",
                "# Files to download\n",
                "pretrained_files = [(DATASET_PATH, \"TinyImageNet.zip\"), (CHECKPOINT_PATH, \"patches.zip\")]\n",
                "# Create checkpoint path if it doesn't exist yet\n",
                "os.makedirs(DATASET_PATH, exist_ok=True)\n",
                "os.makedirs(CHECKPOINT_PATH, exist_ok=True)\n",
                "\n",
                "# For each file, check whether it already exists. If not, try downloading it.\n",
                "for dir_name, file_name in pretrained_files:\n",
                "    file_path = os.path.join(dir_name, file_name)\n",
                "    if not os.path.isfile(file_path):\n",
                "        file_url = base_url + file_name\n",
                "        print(f\"Downloading {file_url}...\")\n",
                "        try:\n",
                "            urllib.request.urlretrieve(file_url, file_path)\n",
                "        except HTTPError as e:\n",
                "            print(\n",
                "                \"Something went wrong. Please try to download the file from the GDrive folder, or contact the author with the full output including the following error:\\n\",\n",
                "                e,\n",
                "            )\n",
                "        if file_name.endswith(\".zip\"):\n",
                "            print(\"Unzipping file...\")\n",
                "            with zipfile.ZipFile(file_path, \"r\") as zip_ref:\n",
                "                zip_ref.extractall(file_path.rsplit(\"/\", 1)[0])"
            ]
        },
        {
            "attachments": {},
            "cell_type": "markdown",
            "metadata": {},
            "source": [
                "For our experiments in this notebook, we will use common CNN architectures trained on the ImageNet dataset. Such models are luckily provided by PyTorch's torchvision package, and hence we just need to load the model of our preference. For the results on the website and default on Google Colab, we use a ResNet34. Feel free to experiment with other architectures as well, the code is mainly independent of the specific architecture we choose."
            ]
        },
        {
            "attachments": {},
            "cell_type": "markdown",
            "metadata": {},
            "source": [
                "Question: What is the difference between `model.eval()` and `param.requires_grad = False` in the next cell?"
            ]
        },
        {
            "cell_type": "code",
            "execution_count": null,
            "metadata": {},
            "outputs": [],
            "source": [
                "# Load CNN architecture pretrained on ImageNet\n",
                "os.environ[\"TORCH_HOME\"] = CHECKPOINT_PATH\n",
                "pretrained_model = torchvision.models.resnet34(pretrained=True)\n",
                "pretrained_model = pretrained_model.to(device)\n",
                "\n",
                "# No gradients needed for the network\n",
                "pretrained_model.eval()\n",
                "for param in pretrained_model.parameters():\n",
                "    param.requires_grad = False"
            ]
        },
        {
            "attachments": {},
            "cell_type": "markdown",
            "metadata": {},
            "source": [
                "<details>\n",
                "<summary>Answer</summary>\n",
                "\n",
                "`model.eval()` sets the model to evaluation mode. This is important for some layers, such as batch normalization and dropout, which behave differently during training and evaluation. For example, dropout randomly sets some activations to zero during training, but not during evaluation. Hence, we always need to set the model to evaluation mode when we want to use the model for inference.\n",
                "\n",
                "`param.requires_grad = False` sets the parameter to not require gradients, which means that it won't be a trainable parameter anymore and they won't keep their gradients.\n",
                "</details>\n",
                "\n",
                "\n",
                "## Deep CNNs on ImageNet (Only Run)\n",
                "\n",
                "You can just collapse this section."
            ]
        },
        {
            "attachments": {},
            "cell_type": "markdown",
            "metadata": {},
            "source": [
                "To perform adversarial attacks, we also need a dataset to work on. Given that the CNN model has been trained on ImageNet, it is only fair to perform the attacks on data from ImageNet. For this, we provide a small set of pre-processed images from the original ImageNet dataset (note that this dataset is shared under the same [license](http://image-net.org/download-faq) as the original ImageNet dataset). Specifically, we have 5 images for each of the 1000 labels of the dataset. We can load the data below, and create a corresponding data loader."
            ]
        },
        {
            "cell_type": "code",
            "execution_count": null,
            "metadata": {},
            "outputs": [],
            "source": [
                "# Mean and Std from ImageNet\n",
                "NORM_MEAN = np.array([0.485, 0.456, 0.406])\n",
                "NORM_STD = np.array([0.229, 0.224, 0.225])\n",
                "# No resizing and center crop necessary as images are already preprocessed.\n",
                "plain_transforms = transforms.Compose(\n",
                "    [transforms.ToTensor(), transforms.Normalize(mean=NORM_MEAN, std=NORM_STD)]\n",
                ")\n",
                "\n",
                "# Load dataset and create data loader\n",
                "imagenet_path = os.path.join(DATASET_PATH, \"TinyImageNet/\")\n",
                "assert os.path.isdir(imagenet_path), (\n",
                "    f'Could not find the ImageNet dataset at expected path \"{imagenet_path}\". '\n",
                "    + f\"Please make sure to have downloaded the ImageNet dataset here, or change the {DATASET_PATH} variable.\"\n",
                ")\n",
                "dataset = torchvision.datasets.ImageFolder(root=imagenet_path, transform=plain_transforms)\n",
                "data_loader = data.DataLoader(dataset, batch_size=8, shuffle=False, drop_last=False, num_workers=1)\n",
                "\n",
                "# Load label names to interpret the label numbers 0 to 999\n",
                "with open(os.path.join(imagenet_path, \"label_list.json\"), \"r\") as f:\n",
                "    label_names = json.load(f)\n",
                "\n",
                "\n",
                "def get_label_index(lab_str):\n",
                "    assert lab_str in label_names, f'Label \"{lab_str}\" not found. Check the spelling of the class.'\n",
                "    return label_names.index(lab_str)"
            ]
        },
        {
            "attachments": {},
            "cell_type": "markdown",
            "metadata": {},
            "source": [
                "Before we start with our attacks, we should verify the performance of our model. As ImageNet has 1000 classes, simply looking at the accuracy is not sufficient to tell the performance of a model. Imagine a model that always predicts the true label as the second-highest class in its softmax output. Although we would say it recognizes the object in the image, it achieves an accuracy of 0. In ImageNet with 1000 classes, there is not always one clear label we can assign an image to. This is why for image classifications over so many classes, a common alternative metric is \"Top-5 accuracy\", which tells us how many times the true label has been within the 5 most-likely predictions of the model. As models usually perform quite well on those, we report the error (1 - accuracy) instead of the accuracy:"
            ]
        },
        {
            "cell_type": "code",
            "execution_count": null,
            "metadata": {},
            "outputs": [],
            "source": [
                "def eval_model(dataset_loader, img_func=None):\n",
                "    tp, tp_5, counter = 0.0, 0.0, 0.0\n",
                "    for imgs, labels in tqdm(dataset_loader, desc=\"Validating...\"):\n",
                "        imgs = imgs.to(device)\n",
                "        labels = labels.to(device)\n",
                "        if img_func is not None:\n",
                "            imgs = img_func(imgs, labels)\n",
                "        with torch.no_grad():\n",
                "            preds = pretrained_model(imgs)\n",
                "        tp += (preds.argmax(dim=-1) == labels).sum()\n",
                "        tp_5 += (preds.topk(5, dim=-1)[1] == labels[..., None]).any(dim=-1).sum()\n",
                "        counter += preds.shape[0]\n",
                "    acc = tp.float().item() / counter\n",
                "    top5 = tp_5.float().item() / counter\n",
                "    print(f\"Top-1 error: {(100.0 * (1 - acc)):4.2f}%\")\n",
                "    print(f\"Top-5 error: {(100.0 * (1 - top5)):4.2f}%\")\n",
                "    return acc, top5"
            ]
        },
        {
            "cell_type": "code",
            "execution_count": null,
            "metadata": {},
            "outputs": [],
            "source": [
                "# This takes some time and is not necessary\n",
                "# (and this might be representative of people in capablity labs)\n",
                "# _ = eval_model(data_loader)"
            ]
        },
        {
            "attachments": {},
            "cell_type": "markdown",
            "metadata": {},
            "source": [
                "The ResNet34 achives a decent error rate of 4.3% for the top-5 predictions. Next, we can look at some predictions of the model to get more familiar with the dataset. The function below plots an image along with a bar diagram of its predictions. We also prepare it to show adversarial examples for later applications."
            ]
        },
        {
            "cell_type": "code",
            "execution_count": null,
            "metadata": {},
            "outputs": [],
            "source": [
                "def show_prediction(img, label, pred, K=5, adv_img=None, noise=None):\n",
                "\n",
                "    if isinstance(img, torch.Tensor):\n",
                "        # Tensor image to numpy\n",
                "        img = img.cpu().permute(1, 2, 0).numpy()\n",
                "        img = (img * NORM_STD[None, None]) + NORM_MEAN[None, None]\n",
                "        img = np.clip(img, a_min=0.0, a_max=1.0)\n",
                "        label = label.item()\n",
                "\n",
                "    # Plot on the left the image with the true label as title.\n",
                "    # On the right, have a horizontal bar plot with the top k predictions including probabilities\n",
                "    if noise is None or adv_img is None:\n",
                "        fig, ax = plt.subplots(1, 2, figsize=(10, 2), gridspec_kw={\"width_ratios\": [1, 1]})\n",
                "    else:\n",
                "        fig, ax = plt.subplots(1, 5, figsize=(12, 2), gridspec_kw={\"width_ratios\": [1, 1, 1, 1, 2]})\n",
                "\n",
                "    ax[0].imshow(img)\n",
                "    ax[0].set_title(label_names[label])\n",
                "    ax[0].axis(\"off\")\n",
                "\n",
                "    if adv_img is not None and noise is not None:\n",
                "        # Visualize adversarial images\n",
                "        adv_img = adv_img.cpu().permute(1, 2, 0).numpy()\n",
                "        adv_img = (adv_img * NORM_STD[None, None]) + NORM_MEAN[None, None]\n",
                "        adv_img = np.clip(adv_img, a_min=0.0, a_max=1.0)\n",
                "        ax[1].imshow(adv_img)\n",
                "        ax[1].set_title(\"Adversarial\")\n",
                "        ax[1].axis(\"off\")\n",
                "        # Visualize noise\n",
                "        noise = noise.cpu().permute(1, 2, 0).numpy()\n",
                "        noise = noise * 0.5 + 0.5  # Scale between 0 to 1\n",
                "        ax[2].imshow(noise)\n",
                "        ax[2].set_title(\"Noise\")\n",
                "        ax[2].axis(\"off\")\n",
                "        # buffer\n",
                "        ax[3].axis(\"off\")\n",
                "\n",
                "    if abs(pred.sum().item() - 1.0) > 1e-4:\n",
                "        pred = torch.softmax(pred, dim=-1)\n",
                "    topk_vals, topk_idx = pred.topk(K, dim=-1)\n",
                "    topk_vals, topk_idx = topk_vals.cpu().numpy(), topk_idx.cpu().numpy()\n",
                "    ax[-1].barh(\n",
                "        np.arange(K),\n",
                "        topk_vals * 100.0,\n",
                "        align=\"center\",\n",
                "        color=[\"C0\" if topk_idx[i] != label else \"C2\" for i in range(K)],\n",
                "    )\n",
                "    ax[-1].set_yticks(np.arange(K))\n",
                "    ax[-1].set_yticklabels([label_names[c] for c in topk_idx])\n",
                "    ax[-1].invert_yaxis()\n",
                "    ax[-1].set_xlabel(\"Confidence\")\n",
                "    ax[-1].set_title(\"Predictions\")\n",
                "\n",
                "    plt.show()\n",
                "    plt.close()"
            ]
        },
        {
            "attachments": {},
            "cell_type": "markdown",
            "metadata": {},
            "source": [
                "Let's visualize a few images below:"
            ]
        },
        {
            "cell_type": "code",
            "execution_count": null,
            "metadata": {},
            "outputs": [],
            "source": [
                "exmp_batch, label_batch = next(iter(data_loader))\n",
                "print(\"loaded\")\n",
                "with torch.no_grad():\n",
                "    preds = pretrained_model(exmp_batch.to(device))\n",
                "for i in range(5):\n",
                "    show_prediction(exmp_batch[i], label_batch[i], preds[i])"
            ]
        },
        {
            "attachments": {},
            "cell_type": "markdown",
            "metadata": {},
            "source": [
                "The bar plot on the right shows the top-5 predictions of the model with their class probabilities. We denote the class probabilities with \"confidence\" as it somewhat resembles how confident the network is that the image is of one specific class. Some of the images have a highly peaked probability distribution, and we would expect the model to be rather robust against noise for those. However, we will see below that this is not always the case. Note that all of the images are of fish because the data loader doesn't shuffle the dataset. Otherwise, we would get different images every time we run the notebook, which would make it hard to discuss the results on the static version."
            ]
        },
        {
            "attachments": {},
            "cell_type": "markdown",
            "metadata": {},
            "source": [
                "## White-box adversarial attacks\n",
                "\n",
                "There have been proposed many possible adversarial attack strategies, which all share the same goal: alternate the data/image input only a little bit to have a great impact on the model's prediction. Specifically, if we look at the ImageNet predictions above, how can we have to change the image of the goldfish so that the model does not recognize the goldfish anymore? At the same time, the label of the image should not change, in the sense that a human would still clearly classify it as a goldfish. This is the same objective that the generator network has in the Generative Adversarial Network framework: try to fool another network (discriminator) by changing its input.\n",
                "\n",
                "Adversarial attacks are usually grouped into \"white-box\" and \"black-box\" attacks. White-box attacks assume that we have access to the model parameter and can, for example, calculate the gradients with respect to the input (similar as in GANs). Black-box attacks on the other hand have the harder task of not having any knowledge about the network, and can only obtain predictions for an image, but no gradients or the like. In this notebook, we will focus on white-box attacks as they are usually easier to implement and follow the intuition of Generative Adversarial Networks (GAN) as studied in lecture 10.\n",
                "\n",
                "### Fast Gradient Sign Method (FGSM)\n",
                "\n",
                "One of the first attack strategies proposed is Fast Gradient Sign Method (FGSM), developed by [Ian Goodfellow et al.](https://arxiv.org/pdf/1412.6572.pdf) in 2014. Given an image, we create an adversarial example by the following expression:\n",
                "\n",
                "$$\\tilde{x} = x + \\epsilon \\cdot \\text{sign}(\\nabla_x J(\\theta,x,y))$$\n",
                "\n",
                "The term $J(\\theta,x,y)$ represents the loss of the network for classifying input image $x$ as label $y$; $\\epsilon$ is the intensity of the noise, and $\\tilde{x}$ the final adversarial example. The equation resembles SGD and is actually nothing else than that. We change the input image $x$ in the direction of *maximizing* the loss $J(\\theta,x,y)$. This is exactly the other way round as during training, where we try to minimize the loss. The sign function and $\\epsilon$ can be seen as gradient clipping and learning rate specifically. We only allow our attack to change each pixel value by $\\epsilon$. You can also see that the attack can be performed very fast, as it only requires a single forward and backward pass. Let's implement it below:"
            ]
        },
        {
            "attachments": {},
            "cell_type": "markdown",
            "metadata": {},
            "source": [
                "```yaml\n",
                "Difficulty: 🟠🟠🟠⚪⚪\n",
                "Importance: 🔵🔵🔵⚪⚪\n",
                "\n",
                "You should spend 20~40 min on this exercise.\n",
                "```\n",
                "\n",
                "Question: FGSM is said to be an untargeted attack, meaning they effectively try to change the label to any alternative, rather than change it to a particular alternative. What would we have to do to adapt FGSM to be a targeted attack?\n",
                "\n",
                "<details>\n",
                "<summary>Answer</summary>\n",
                "\n",
                "We would have to change the sign of the gradient to be negative, so that we minimize the loss instead of maximizing it. We would also have to change the loss function to be the negative log-likelihood of the corrupt target class, instead of the cross-entropy loss.\n",
                "</details>\n",
                "\n",
                "Question: Why do you need `model.eval()` and `for param in pretrained_model.parameters(): param.requires_grad = False` for FGSM? Could we use the context manager `with torch.no_grad()` instead?\n",
                "\n",
                "<details>\n",
                "<summary>Answer</summary>\n",
                "\n",
                "- `model.eval()` desactivates dropout and changes the behavior of batch normalization layers. This is important for inference, as it make the model use the whole network, and not only a part of it and be more deterministic.\n",
                "- `param.requires_grad = False` sets the parameter to not require gradients, which means that it won't be a trainable parameter. We don't want to store the gradients of every parameter for FGSM, but only the gradients of the input image.\n",
                "- `with torch.no_grad()` would prevent the technique to work as it disables ALL gradients, including the gradients of the input image, which we need to compute the adversarial example.\n",
                "</details>\n",
                "\n",
                "Now, complete the function below to perform the FGSM attack on an image!"
            ]
        },
        {
            "cell_type": "code",
            "execution_count": null,
            "metadata": {},
            "outputs": [],
            "source": [
                "def fast_gradient_sign_method(model, images, labels, epsilon=0.02):\n",
                "    \"\"\"\n",
                "    Parameters:\n",
                "    model: trained model in eval mode\n",
                "    imgs: List of image in torch format that we want to corrupt (B C H W)\n",
                "    labels: Corresponding labels of the images (B)\n",
                "\n",
                "    Returns:\n",
                "    detached tensor: fake_imgs (B C H W), noise_grads (B C H W)\n",
                "    \"\"\"\n",
                "    # We clone the image to not do inplace operations on it\n",
                "    imgs = images.clone()\n",
                "\n",
                "    ...\n",
                "    # Tip: Calculate the loss (nn.CrossEntropyLoss) and do a gradient ascent instead of a gradient descent.\n",
                "    ...\n",
                "\n",
                "    # TODO: The following lines only show the type of what has to be returned and should be adapted\n",
                "    fake_imgs, noise_grads = imgs, torch.sign(imgs)\n",
                "    ...\n",
                "\n",
                "    # We use detach to remove the gradient information from our outputs\n",
                "    fake_imgs.detach_()\n",
                "    noise_grads.detach_()\n",
                "    return fake_imgs, noise_grads"
            ]
        },
        {
            "attachments": {},
            "cell_type": "markdown",
            "metadata": {},
            "source": [
                "<details>\n",
                "<summary>Solution</summary>\n",
                "    \n",
                "```python\n",
                "def fast_gradient_sign_method(model, images, labels, epsilon=0.02):\n",
                "    # We clone the image to not do inplace operations on it\n",
                "    input_images = images.clone()\n",
                "    # We want the gradient with respect to the input image\n",
                "    input_images.requires_grad = True\n",
                "    # Determine prediction of the model\n",
                "    logits = model(input_images)\n",
                "    # Calculate loss with respect to the true label\n",
                "    loss = nn.CrossEntropyLoss()(logits, labels)\n",
                "    # Compute the gradients\n",
                "    loss.backward()\n",
                "    # Update image to adversarial example as written above\n",
                "    noise_grad = torch.sign(input_images.grad)\n",
                "    fake_imgs = images + epsilon * noise_grad\n",
                "    # Remove the tensor from the computational graph, otherwise plots won't work\n",
                "    fake_imgs.detach_()\n",
                "    return fake_imgs, noise_grad\n",
                "```\n",
                "</details>\n",
                "\n",
                "The default value of $\\epsilon=0.02$ corresponds to changing a pixel value by about 1 in the range of 0 to 255, e.g. changing 127 to 128. This difference is marginal and can often not be recognized by humans. Let's try it below on our example images:"
            ]
        },
        {
            "cell_type": "code",
            "execution_count": null,
            "metadata": {},
            "outputs": [],
            "source": [
                "adv_imgs, noise_grad = fast_gradient_sign_method(\n",
                "    pretrained_model, exmp_batch, label_batch, epsilon=0.02\n",
                ")\n",
                "with torch.no_grad():\n",
                "    adv_preds = pretrained_model(adv_imgs.to(device))\n",
                "\n",
                "for i in range(5):\n",
                "    show_prediction(\n",
                "        exmp_batch[i], label_batch[i], adv_preds[i], adv_img=adv_imgs[i], noise=noise_grad[i]\n",
                "    )"
            ]
        },
        {
            "attachments": {},
            "cell_type": "markdown",
            "metadata": {},
            "source": [
                "Despite the minor amount of noise (we change each pixel value by ±1), we are able to fool the network on most of our examples. In some, none of the labels have made it into the top-5, showing that we indeed fooled the model. In any case, the probability of the correct label decreased.\n",
                "\n",
                "For those images where the model still predicts the correct label, we can increase the noise level $\\epsilon$ to make the attack stronger, however, if you increase it too much, the perturbation will become visible to humans.\n",
                "\n",
                "We can also check the accuracy of the model on the adversarial images:"
            ]
        },
        {
            "cell_type": "code",
            "execution_count": null,
            "metadata": {},
            "outputs": [],
            "source": [
                "# _ = eval_model(data_loader, img_func=lambda x, y: fast_gradient_sign_method(pretrained_model, x, y, epsilon=0.02)[0])"
            ]
        },
        {
            "attachments": {},
            "cell_type": "markdown",
            "metadata": {},
            "source": [
                "As expected, the model is fooled on almost every image at least for the top-1 error, and more than half don't have the true label in their top-5. This is a quite significant difference compared to the error rate of 4.3% on the clean images. However, note that the predictions remain semantically similar. For instance, in the images we visualized above, the tench is still recognized as another fish, as well as the great white shark being a dugong. FGSM could be adapted to increase the probability of a specific class instead of minimizing the probability of a label, but for those, there are usually better attacks such as the adversarial patch."
            ]
        },
        {
            "attachments": {},
            "cell_type": "markdown",
            "metadata": {},
            "source": [
                "### Bonus: Adversarial Patches\n",
                "\n",
                "**Note**: you need a notebook with a GPU for this part, you can select one in Colab: Runtime -> Change run time type -> GPU."
            ]
        },
        {
            "cell_type": "code",
            "execution_count": null,
            "metadata": {},
            "outputs": [],
            "source": [
                "assert (\n",
                "    torch.cuda.is_available()\n",
                "), \"GPU device not found. In Colab, please activate the GPU in the menu 'Runtime' > 'Change runtime type' > 'GPU'.\"\n",
                "device = torch.device(\"cuda\")\n",
                "# Moving the model to the GPU\n",
                "pretrained_model = pretrained_model.to(device)"
            ]
        },
        {
            "cell_type": "markdown",
            "metadata": {},
            "source": [
                "Instead of changing every pixel by a little bit, we can also try to change a small part of the image into whatever values we would like. In other words, we will create a small image patch that covers a minor part of the original image but causes the model to confidentially predict a specific class we choose. This form of attack is an even bigger threat in real-world applications than FSGM. Imagine a network in an autonomous car that receives a live image from a camera. Another driver could print out a specific pattern and put it on the back of his/her vehicle to make the autonomous car believe that the car is actually a pedestrian. Meanwhile, humans would not notice it. [Tom Brown et al.](https://arxiv.org/pdf/1712.09665.pdf) proposed a way of learning such adversarial image patches robustly in 2017 and provided a short demonstration on [YouTube](https://youtu.be/i1sp4X57TL4). Interestingly, if you add a small picture of the target class (here *toaster*) to the original image, the model does not pick it up at all. A specifically designed patch, however, which only roughly looks like a toaster, can change the network's prediction instantaneously.\n",
                "\n",
                "[![Adversarial patch in real world](https://img.youtube.com/vi/i1sp4X57TL4/0.jpg)](https://youtu.be/i1sp4X57TL4)\n",
                "\n",
                "Let's take a closer look at how we can actually train such patches. The general idea is very similar to FSGM in the sense that we calculate gradients for the input, and update our adversarial input correspondingly. However, there are also some differences in the setup. Firstly, we do not calculate a gradient for every pixel. Instead, we replace parts of the input image with our patch and then calculate the gradients just for our patch. Secondly, we don't just do it for one image, but we want the patch to work with any possible image. Hence, we have a whole training loop where we train the patch using SGD. Lastly, image patches are usually designed to make the model predict a specific class, not just any other arbitrary class except the true label. For instance, we can try to create a patch for the class \"toaster\" and train the patch so that our pretrained model predicts the class \"toaster\" for any image with the patch in it.\n",
                "\n",
                "Additionally, to the setup described above, there are a couple of design choices we can take. For instance, [Brown et al.](https://arxiv.org/pdf/1712.09665.pdf) randomly rotated and scaled the patch during training before placing it at a random position in an input image. This makes the patch more robust to small changes and is necessary if we want to fool a neural network in a real-world application. For simplicity, we will only focus on making the patch robust to the location in the image. Given a batch of input images and a patch, we can add the patch as follows:"
            ]
        },
        {
            "cell_type": "code",
            "execution_count": null,
            "metadata": {},
            "outputs": [],
            "source": [
                "def place_patch(img, patch):\n",
                "    for i in range(img.shape[0]):\n",
                "        h_offset = np.random.randint(0, img.shape[2] - patch.shape[1] - 1)\n",
                "        w_offset = np.random.randint(0, img.shape[3] - patch.shape[2] - 1)\n",
                "        img[i, :, h_offset : h_offset + patch.shape[1], w_offset : w_offset + patch.shape[2]] = (\n",
                "            patch_forward(patch)\n",
                "        )\n",
                "    return img"
            ]
        },
        {
            "cell_type": "markdown",
            "metadata": {},
            "source": [
                "The patch itself will be an `nn.Parameter` whose values are in the range between and $-\\infty$ and $\\infty$. Images are, however, naturally limited in their range, and thus we write a small function that maps the parameter into the image value range of ImageNet:"
            ]
        },
        {
            "cell_type": "code",
            "execution_count": null,
            "metadata": {},
            "outputs": [],
            "source": [
                "TENSOR_MEANS, TENSOR_STD = (\n",
                "    torch.FloatTensor(NORM_MEAN)[:, None, None],\n",
                "    torch.FloatTensor(NORM_STD)[:, None, None],\n",
                ")\n",
                "\n",
                "\n",
                "def patch_forward(patch):\n",
                "    # Map patch values from [-infty,infty] to ImageNet min and max\n",
                "    patch = (torch.tanh(patch) + 1 - 2 * TENSOR_MEANS) / (2 * TENSOR_STD)\n",
                "    return patch"
            ]
        },
        {
            "attachments": {},
            "cell_type": "markdown",
            "metadata": {},
            "source": [
                "Before looking at the actual training code, we can write a small evaluation function. We evaluate the success of a patch by how many times we were able to fool the network into predicting our target class. A simple function for this is implemented below."
            ]
        },
        {
            "cell_type": "code",
            "execution_count": null,
            "metadata": {},
            "outputs": [],
            "source": [
                "def eval_patch(model, patch, val_loader, target_class):\n",
                "    model.eval()\n",
                "    tp, tp_5, counter = 0.0, 0.0, 0.0\n",
                "    with torch.no_grad():\n",
                "        for img, img_labels in tqdm(val_loader, desc=\"Validating...\", leave=False):\n",
                "            # For stability, place the patch at 4 random locations per image, and average the performance\n",
                "            for _ in range(4):\n",
                "                patch_img = place_patch(img, patch)\n",
                "                patch_img = patch_img.to(device)\n",
                "                img_labels = img_labels.to(device)\n",
                "                pred = model(patch_img)\n",
                "                # In the accuracy calculation, we need to exclude the images that are of our target class\n",
                "                # as we would not \"fool\" the model into predicting those\n",
                "                tp += torch.logical_and(\n",
                "                    pred.argmax(dim=-1) == target_class, img_labels != target_class\n",
                "                ).sum()\n",
                "                tp_5 += torch.logical_and(\n",
                "                    (pred.topk(5, dim=-1)[1] == target_class).any(dim=-1),\n",
                "                    img_labels != target_class,\n",
                "                ).sum()\n",
                "                counter += (img_labels != target_class).sum()\n",
                "    acc = tp / counter\n",
                "    top5 = tp_5 / counter\n",
                "    return acc, top5"
            ]
        },
        {
            "attachments": {},
            "cell_type": "markdown",
            "metadata": {},
            "source": [
                "Finally, we can look at the training loop. Given a model to fool, a target class to design the patch for, and a size $k$ of the patch in the number of pixels, we first start by creating a parameter of size $3\\times k\\times k$. These are the only parameters we will train, and the network itself remains untouched. We use a simple SGD optimizer with momentum to minimize the classification loss of the model given the patch in the image. While we first start with a very high loss due to the good initial performance of the network, the loss quickly decreases once we start changing the patch. In the end, the patch will represent patterns that are characteristic of the class. For instance, if we would want the model to predict a \"goldfish\" in every image, we would expect the pattern to look somewhat like a goldfish. Over the iterations, the model finetunes the pattern and, hopefully, achieves a high fooling accuracy."
            ]
        },
        {
            "attachments": {},
            "cell_type": "markdown",
            "metadata": {},
            "source": [
                "Exercise: Complete `patch_attack`\n",
                "\n",
                "```yaml\n",
                "Difficulty: 🟠🟠🟠⚪⚪\n",
                "Importance: 🔵🔵🔵🔵⚪\n",
                "\n",
                "You should spend 15~40 min on this exercise.\n",
                "```"
            ]
        },
        {
            "cell_type": "code",
            "execution_count": null,
            "metadata": {},
            "outputs": [],
            "source": [
                "def patch_attack(model, target_class, patch_size=64, num_epochs=5, lr=1e-1, momentum=0.8):\n",
                "    # Leave a small set of images out to check generalization\n",
                "    # In most of our experiments, the performance on the hold-out data points\n",
                "    # was as good as on the training set. Overfitting was little possible due\n",
                "    # to the small size of the patches.\n",
                "    train_set, val_set = torch.utils.data.random_split(dataset, [4500, 500])\n",
                "    train_loader = data.DataLoader(\n",
                "        train_set, batch_size=32, shuffle=True, drop_last=True, num_workers=8\n",
                "    )\n",
                "    val_loader = data.DataLoader(\n",
                "        val_set, batch_size=32, shuffle=False, drop_last=False, num_workers=4\n",
                "    )\n",
                "\n",
                "    # Create parameter and optimizer\n",
                "    if not isinstance(patch_size, tuple):\n",
                "        patch_size = (patch_size, patch_size)\n",
                "\n",
                "    # Create a patch of size patch_size. Don't forget the color channel\n",
                "    patch = ...\n",
                "\n",
                "    # Use SGD\n",
                "    optimizer = ...\n",
                "\n",
                "    # Use cross-entropy\n",
                "    loss_module = ...\n",
                "\n",
                "    # Training loop\n",
                "    for epoch in tqdm(range(num_epochs)):\n",
                "        progress_bar = tqdm(train_loader, leave=False)\n",
                "        for img, _ in progress_bar:\n",
                "            # img, and patch must be on cpu when entering in place_patch\n",
                "            img = place_patch(img, patch).to(device)\n",
                "\n",
                "            ...\n",
                "\n",
                "            # When you define a `loss` variable, it will be displayed in the progress bar\n",
                "            progress_bar.set_description(f\"Epoch {epoch}, Loss: {loss.item():4.2f}\")\n",
                "\n",
                "    # Final validation\n",
                "    acc, top5 = eval_patch(model, patch, val_loader, target_class)\n",
                "\n",
                "    return patch.data, {\"acc\": acc.item(), \"top5\": top5.item()}"
            ]
        },
        {
            "cell_type": "markdown",
            "metadata": {},
            "source": [
                "<details>\n",
                "<summary>Solution (try to ask TAs instead of looking at it)</summary>\n",
                "\n",
                "```python\n",
                "def patch_attack(model, target_class, patch_size=64, num_epochs=5):\n",
                "    # Leave a small set of images out to check generalization\n",
                "    # In most of our experiments, the performance on the hold-out data points\n",
                "    # was as good as on the training set. Overfitting was little possible due\n",
                "    # to the small size of the patches.\n",
                "    train_set, val_set = torch.utils.data.random_split(dataset, [4500, 500])\n",
                "    train_loader = data.DataLoader(train_set, batch_size=32, shuffle=True, drop_last=True, num_workers=8)\n",
                "    val_loader = data.DataLoader(val_set, batch_size=32, shuffle=False, drop_last=False, num_workers=4)\n",
                "    \n",
                "    # Create parameter and optimizer\n",
                "    if not isinstance(patch_size, tuple):\n",
                "        patch_size = (patch_size, patch_size)\n",
                "    patch = nn.Parameter(torch.zeros(3, patch_size[0], patch_size[1]), requires_grad=True)\n",
                "    optimizer = torch.optim.SGD([patch], lr=1e-1, momentum=0.8)\n",
                "    loss_module = nn.CrossEntropyLoss()\n",
                "    \n",
                "    # Training loop\n",
                "    for epoch in tqdm(range(num_epochs)):\n",
                "        progress_bar = tqdm(train_loader, leave=False)\n",
                "        for img, _ in progress_bar:\n",
                "            img = place_patch(img, patch).to(device)\n",
                "            pred = model(img)\n",
                "            labels = torch.zeros(img.shape[0], device=pred.device, dtype=torch.long).fill_(target_class)\n",
                "            loss = loss_module(pred, labels)\n",
                "            optimizer.zero_grad()\n",
                "            loss.mean().backward()\n",
                "            optimizer.step()\n",
                "            \n",
                "            # When you define a `loss` variable, it will be displayed in the progress bar\n",
                "            progress_bar.set_description(f\"Epoch {epoch}, Loss: {loss.item():4.2f}\")\n",
                "    \n",
                "    # Final validation\n",
                "    acc, top5 = eval_patch(model, patch, val_loader, target_class)\n",
                "    \n",
                "    return patch.data, {\"acc\": acc.item(), \"top5\": top5.item()}\n",
                "```\n",
                "\n",
                "</details>"
            ]
        },
        {
            "attachments": {},
            "cell_type": "markdown",
            "metadata": {},
            "source": [
                "To get some experience with what to expect from an adversarial patch attack, we want to train multiple patches for different classes. As the training of a patch can take one or two minutes on a GPU, we have provided a couple of pre-trained patches including their results on the full dataset. The results are saved in a JSON file, which is loaded below."
            ]
        },
        {
            "cell_type": "code",
            "execution_count": null,
            "metadata": {},
            "outputs": [],
            "source": [
                "# Load evaluation results of the pretrained patches\n",
                "json_results_file = os.path.join(CHECKPOINT_PATH, \"patch_results.json\")\n",
                "json_results = {}\n",
                "if os.path.isfile(json_results_file):\n",
                "    with open(json_results_file, \"r\") as f:\n",
                "        json_results = json.load(f)\n",
                "\n",
                "\n",
                "# If you train new patches, you can save the results via calling this function\n",
                "def save_results(patch_dict):\n",
                "    result_dict = {\n",
                "        cname: {\n",
                "            psize: [\n",
                "                t.item() if isinstance(t, torch.Tensor) else t\n",
                "                for t in patch_dict[cname][psize][\"results\"]\n",
                "            ]\n",
                "            for psize in patch_dict[cname]\n",
                "        }\n",
                "        for cname in patch_dict\n",
                "    }\n",
                "    with open(os.path.join(CHECKPOINT_PATH, \"patch_results.json\"), \"w\") as f:\n",
                "        json.dump(result_dict, f, indent=4)"
            ]
        },
        {
            "cell_type": "markdown",
            "metadata": {},
            "source": [
                "Additionally, we implement a function to train and evaluate patches for a list of classes and patch sizes. The pretrained patches include the classes *toaster*, *goldfish*, *school bus*, *lipstick*, and *pineapple*. We chose the classes arbitrarily to cover multiple domains (animals, vehicles, fruits, devices, etc.). We trained each class for three different patch sizes: $32\\times32$ pixels, $48\\times48$ pixels, and $64\\times64$ pixels. We can load them in the two cells below."
            ]
        },
        {
            "cell_type": "code",
            "execution_count": null,
            "metadata": {},
            "outputs": [],
            "source": [
                "# Change to True to test your Patch optimization function\n",
                "TEST_MY_IMPLEMENTATION = False\n",
                "\n",
                "\n",
                "def get_patches(class_names, patch_sizes):\n",
                "    result_dict = dict()\n",
                "\n",
                "    # Loop over all classes and patch sizes\n",
                "    for name in class_names:\n",
                "        result_dict[name] = dict()\n",
                "        for patch_size in patch_sizes:\n",
                "            c = label_names.index(name)\n",
                "            file_name = os.path.join(CHECKPOINT_PATH, f\"{name}_{patch_size}_patch.pt\")\n",
                "            # Load patch if pretrained file exists, otherwise start training\n",
                "            if not os.path.isfile(file_name) or TEST_MY_IMPLEMENTATION:\n",
                "                patch, val_results = patch_attack(\n",
                "                    pretrained_model, target_class=c, patch_size=patch_size, num_epochs=5\n",
                "                )\n",
                "                print(f\"Validation results for {name} and {patch_size}:\", val_results)\n",
                "                torch.save(patch, file_name)\n",
                "            else:\n",
                "                patch = torch.load(file_name)\n",
                "            # Load evaluation results if exist, otherwise manually evaluate the patch\n",
                "            if name in json_results:\n",
                "                results = json_results[name][str(patch_size)]\n",
                "            else:\n",
                "                results = eval_patch(pretrained_model, patch, data_loader, target_class=c)\n",
                "\n",
                "            # Store results and the patches in a dict for better access\n",
                "            result_dict[name][patch_size] = {\"results\": results, \"patch\": patch}\n",
                "\n",
                "    return result_dict"
            ]
        },
        {
            "attachments": {},
            "cell_type": "markdown",
            "metadata": {},
            "source": [
                "Feel free to add any additional classes and/or patch sizes.\n",
                "\n",
                "**👀 Note:** If you are generating the patches yourself, it takes **~3 minutes per patch**, so you probably one to start by doing only one patch to test. An easy way of doing it is to add `[:1]` to the end of the `classes` and `patch_sizes` lists, which creates a list of only the first element of the original list (e.g. `class_names = [\"...\", ...][:1]`).\n",
                "\n",
                "**👀 Note 2:** If you want to test your implementation and not load the precomputed patches, you need to set `TEST_MY_IMPLEMENTATION = True` in the cell above."
            ]
        },
        {
            "cell_type": "code",
            "execution_count": null,
            "metadata": {},
            "outputs": [],
            "source": [
                "class_names = [\"toaster\", \"goldfish\", \"school bus\", \"lipstick\", \"pineapple\"]\n",
                "patch_sizes = [32, 48, 64]\n",
                "\n",
                "patch_dict = get_patches(class_names, patch_sizes)\n",
                "# save_results(patch_dict) # Uncomment if you add new class names and want to save the new results"
            ]
        },
        {
            "attachments": {},
            "cell_type": "markdown",
            "metadata": {},
            "source": [
                "Before looking at the quantitative results, we can actually visualize the patches."
            ]
        },
        {
            "cell_type": "code",
            "execution_count": null,
            "metadata": {},
            "outputs": [],
            "source": [
                "def show_patches():\n",
                "    fig, ax = plt.subplots(\n",
                "        len(patch_sizes), len(class_names), figsize=(len(class_names) * 2.2, len(patch_sizes) * 2.2)\n",
                "    )\n",
                "    for c_idx, cname in enumerate(class_names):\n",
                "        for p_idx, psize in enumerate(patch_sizes):\n",
                "            patch = patch_dict[cname][psize][\"patch\"]\n",
                "            patch = (torch.tanh(patch) + 1) / 2  # Parameter to pixel values\n",
                "            patch = patch.cpu().permute(1, 2, 0).numpy()\n",
                "            patch = np.clip(patch, a_min=0.0, a_max=1.0)\n",
                "            ax[p_idx][c_idx].imshow(patch)\n",
                "            ax[p_idx][c_idx].set_title(f\"{cname}, size {psize}\")\n",
                "            ax[p_idx][c_idx].axis(\"off\")\n",
                "    fig.subplots_adjust(hspace=0.3, wspace=0.3)\n",
                "    plt.show()\n",
                "\n",
                "\n",
                "show_patches()"
            ]
        },
        {
            "attachments": {},
            "cell_type": "markdown",
            "metadata": {},
            "source": [
                "We can see a clear difference between patches of different classes and sizes. In the smallest size, $32\\times 32$ pixels, some of the patches clearly resemble their class. For instance, the goldfish patch clearly shows a goldfish. The eye and the color are very characteristic of the class. Overall, the patches with $32$ pixels have very strong colors that are typical for their class (yellow school bus, pink lipstick, greenish pineapple). The larger the patch becomes, the more stretched the pattern becomes. For the goldfish, we can still spot regions that might represent eyes and the characteristic orange color, but it is not clearly a single fish anymore. For the pineapple, we might interpret the top part of the image as the leaves of pineapple fruit, but it is more abstract than our small patches. Nevertheless, we can easily spot the alignment of the patch to class, even on the largest scale.\n",
                "\n",
                "Let's now look at the quantitative results."
            ]
        },
        {
            "cell_type": "code",
            "execution_count": null,
            "metadata": {},
            "outputs": [],
            "source": [
                "%%html\n",
                "<!-- Some HTML code to increase font size in the following table -->\n",
                "<style>\n",
                "th {font-size: 120%;}\n",
                "td {font-size: 120%;}\n",
                "</style>"
            ]
        },
        {
            "cell_type": "code",
            "execution_count": null,
            "metadata": {},
            "outputs": [],
            "source": [
                "import tabulate\n",
                "from IPython.display import display, HTML\n",
                "\n",
                "\n",
                "def show_table(top_1=True):\n",
                "    i = 0 if top_1 else 1\n",
                "    table = [\n",
                "        [name]\n",
                "        + [f\"{round(100.0 * patch_dict[name][psize]['results'][i], 2)}\" for psize in patch_sizes]\n",
                "        for name in class_names\n",
                "    ]\n",
                "    display(\n",
                "        HTML(\n",
                "            tabulate.tabulate(\n",
                "                table,\n",
                "                tablefmt=\"html\",\n",
                "                headers=[\"Class name\"] + [f\"Patch size {psize}x{psize}\" for psize in patch_sizes],\n",
                "            )\n",
                "        )\n",
                "    )"
            ]
        },
        {
            "attachments": {},
            "cell_type": "markdown",
            "metadata": {},
            "source": [
                "First, we will create a table of top-1 accuracy, meaning that how many images have been classified with the target class as highest prediction?"
            ]
        },
        {
            "cell_type": "code",
            "execution_count": null,
            "metadata": {},
            "outputs": [],
            "source": [
                "show_table(top_1=True)"
            ]
        },
        {
            "attachments": {},
            "cell_type": "markdown",
            "metadata": {},
            "source": [
                "The clear trend, that we would also have expected, is that the larger the patch, the easier it is to fool the model. For the largest patch size of $64\\times 64$, we are able to fool the model on almost all images, despite the patch covering only 8% of the image. The smallest patch actually covers 2% of the image, which is almost neglectable. Still, the fooling accuracy is quite remarkable. A large variation can be however seen across classes. While *school bus* and *pineapple* seem to be classes that were easily predicted, *toaster* and *lipstick* seem to be much harder for creating a patch. It is hard to intuitively explain why our patches underperform on those classes. Nonetheless, a fooling accuracy of >40% is still very good for such a tiny patch.\n",
                "\n",
                "Let's also take a look at the top-5 accuracy:"
            ]
        },
        {
            "cell_type": "code",
            "execution_count": null,
            "metadata": {},
            "outputs": [],
            "source": [
                "show_table(top_1=False)"
            ]
        },
        {
            "attachments": {},
            "cell_type": "markdown",
            "metadata": {},
            "source": [
                "We see a very similar pattern across classes and patch sizes. The patch size $64$ obtains >99.7% top-5 accuracy for any class, showing that we can almost fool the network on any image. A top-5 accuracy of >70% for the hard classes and small patches is still impressive and shows how vulnerable deep CNNs are to such attacks.\n",
                "\n",
                "Finally, let's create some example visualizations of the patch attack in action."
            ]
        },
        {
            "cell_type": "code",
            "execution_count": null,
            "metadata": {},
            "outputs": [],
            "source": [
                "def perform_patch_attack(patch):\n",
                "    patch_batch = exmp_batch.clone()\n",
                "    patch_batch = place_patch(patch_batch, patch)\n",
                "    with torch.no_grad():\n",
                "        patch_preds = pretrained_model(patch_batch.to(device))\n",
                "    for i in range(1, 17, 5):\n",
                "        show_prediction(patch_batch[i], label_batch[i], patch_preds[i])"
            ]
        },
        {
            "cell_type": "code",
            "execution_count": null,
            "metadata": {},
            "outputs": [],
            "source": [
                "perform_patch_attack(patch_dict[\"goldfish\"][32][\"patch\"])"
            ]
        },
        {
            "attachments": {},
            "cell_type": "markdown",
            "metadata": {},
            "source": [
                "The tiny goldfish patch can change all of the predictions to \"goldfish\" as top class. Note that the patch attacks work especially well if the input image is semantically similar to the target class (e.g. a fish and the target class \"goldfish\" works better than an airplane image with that patch). Nevertheless, we can also let the network predict semantically dis-similar classes by using a larger patch:"
            ]
        },
        {
            "cell_type": "code",
            "execution_count": null,
            "metadata": {},
            "outputs": [],
            "source": [
                "perform_patch_attack(patch_dict[\"school bus\"][64][\"patch\"])"
            ]
        },
        {
            "attachments": {},
            "cell_type": "markdown",
            "metadata": {},
            "source": [
                "Although none of the images have anything to do with an American school bus, the high confidence of often 100% shows how powerful such attacks can be. With a few lines of code and access to the model, we were able to generate patches that we add to any image to make the model predict any class we want. "
            ]
        },
        {
            "attachments": {},
            "cell_type": "markdown",
            "metadata": {},
            "source": [
                "### Transferability of white-box attacks\n",
                "\n",
                "FGSM and the adversarial patch attack were both focused on one specific image. However, can we transfer those attacks to other models? The adversarial patch attack as proposed in [Brown et al.](https://arxiv.org/pdf/1712.09665.pdf), was originally trained on multiple models, and hence was also able to work on many different network architecture. But how different are the patches for different models anyway? For instance, let's evaluate some of our patches trained above on a different network, e.g. DenseNet121."
            ]
        },
        {
            "cell_type": "code",
            "execution_count": null,
            "metadata": {},
            "outputs": [],
            "source": [
                "transfer_model = torchvision.models.densenet121(pretrained=True)\n",
                "transfer_model = transfer_model.to(device)\n",
                "\n",
                "# No gradients needed for the network\n",
                "transfer_model.eval()\n",
                "for p in transfer_model.parameters():\n",
                "    p.requires_grad = False"
            ]
        },
        {
            "attachments": {},
            "cell_type": "markdown",
            "metadata": {},
            "source": [
                "Feel free to change the class name and/or patch size below to test out different patches."
            ]
        },
        {
            "cell_type": "code",
            "execution_count": null,
            "metadata": {},
            "outputs": [],
            "source": [
                "class_name = \"pineapple\"\n",
                "patch_size = 64\n",
                "print(f'Testing patch \"{class_name}\" of size {patch_size}x{patch_size}')\n",
                "\n",
                "results = eval_patch(\n",
                "    transfer_model,\n",
                "    patch_dict[class_name][patch_size][\"patch\"],\n",
                "    data_loader,\n",
                "    target_class=label_names.index(class_name),\n",
                ")\n",
                "\n",
                "print(f\"Top-1 fool accuracy: {(results[0] * 100.0):4.2f}%\")\n",
                "print(f\"Top-5 fool accuracy: {(results[1] * 100.0):4.2f}%\")"
            ]
        },
        {
            "attachments": {},
            "cell_type": "markdown",
            "metadata": {},
            "source": [
                "Although the fool accuracy is significantly lower than on the original ResNet34, it still has a considerable impact on DenseNet although the networks have completely different architectures and weights. If you would compare more patches and models, some would work better than others. However, one aspect which allows patch attacks to generalize well is if all the networks have been trained on the same data. In this case, all networks have been trained on ImageNet. Dataset biases make the networks recognize specific patterns in the underlying image data that humans would not have seen, and/or only work for the given dataset. This is why the knowledge of what data has been used to train a specific model is already worth a lot in the context of adversarial attacks."
            ]
        },
        {
            "attachments": {},
            "cell_type": "markdown",
            "metadata": {},
            "source": [
                "## Protecting against adversarial attacks\n",
                "\n",
                "There are many more attack strategies than just FGSM and adversarial patches that we haven't discussed and implemented ourselves here. However, what about the other perspective? What can we do to *protect* a network against adversarial attacks? The sad truth to this is: not much.\n",
                "\n",
                "White-box attacks require access to the model and its gradient calculation. The easiest way of preventing this is by ensuring safe, private storage of the model and its weights. However, some attacks, called black-box attacks, also work without access to the model's parameters, or white-box attacks can also generalize as we have seen above on our short test on transferability. \n",
                "\n",
                "So, how could we eventually protect a model? An intuitive approach would to train/finetune a model on such adversarial images, leading to an adversarial training similar to a GAN. During training, we would pretend to be the attacker, and use for example FGSM as an augmentation strategy. However, this usually just ends up in an oscillation of the defending network between weak spots. Another common trick to increase robustness against adversarial attacks is defensive distillation ([Papernot et al.](https://arxiv.org/pdf/1511.04508.pdf)). Instead of training the model on the dataset labels, we train a secondary model on the softmax predictions of the first one. This way, the loss surface is \"smoothed\" in the directions an attacker might try to exploit, and it becomes more difficult for the attacker to find adversarial examples. Nevertheless, there hasn't been found the one, true strategy that works against all possible adversarial attacks.\n",
                "\n",
                "Why are CNNs, or neural networks in general, so vulnerable to adversarial attacks? While there are many possible explanations, the most intuitive is that neural networks don't know what they don't know. Even a large dataset represents just a few sparse points in the extremely large space of possible images. A lot of the input space has not been seen by the network during training, and hence, we cannot guarantee that the prediction for those images is any useful. The network instead learns a very good classification on a smaller region, often referred to as manifold, while ignoring the points outside of it. NNs with uncertainty prediction could potentially help to discover what the network does not know. \n",
                "Another possible explanation lies in the activation function. As we know, most CNNs use ReLU-based activation functions. While those have enabled great success in training deep neural networks due to their stable gradient for positive values, they also constitute a possible flaw. The output range of a ReLU neuron can be arbitrarily high. Thus, if we design a patch or the noise in the image to cause a very high value for a single neuron, it can overpower many other features in the network. Thus, although ReLU stabilizes training, it also offers a potential point of attack for adversaries."
            ]
        },
        {
            "attachments": {},
            "cell_type": "markdown",
            "metadata": {},
            "source": [
                "## Conclusion\n",
                "\n",
                "In this tutorial, we have looked at different forms of adversarial attacks. Deep CNNs can be fooled by only slight modifications to the input. Whether it is a carefully designed noise pattern, unnoticeable for a human, or a small patch, we are able to manipulate the networks' predictions significantly. The fact that even white-box attacks can be transferable across networks, and that there exist no suitable protections against all possible adversarial attacks, make this concept a massive problem for real-world applications. While adversarial attacks can also be used for improving/training a robust model or a GAN, it is not close to being solved yet. This is also because neural networks are currently complex, unknown non-linear functions in high-dimensional looking for correlations instead of causation. In the next years, we might hopefully see an improvement in the stability of such models by using causal approaches and/or introducing uncertainty. "
            ]
        },
        {
            "attachments": {},
            "cell_type": "markdown",
            "metadata": {},
            "source": [
                "## References\n",
                "\n",
                "[1] Goodfellow, Ian J., Jonathon Shlens, and Christian Szegedy. \"Explaining and harnessing adversarial examples.\" ICLR 2015.\n",
                "\n",
                "[2] Hendrik Metzen, Jan, et al. \"Universal adversarial perturbations against semantic image segmentation.\" Proceedings of the IEEE International Conference on Computer Vision. 2017.\n",
                "\n",
                "[3] Anant Jain. \"Breaking neural networks with adversarial attacks.\" [Blog post](https://towardsdatascience.com/breaking-neural-networks-with-adversarial-attacks-f4290a9a45aa) 2019."
            ]
        },
        {
            "attachments": {},
            "cell_type": "markdown",
            "metadata": {},
            "source": [
                "---\n",
                "\n",
                "[![Star our repository](https://img.shields.io/static/v1.svg?logo=star&label=⭐&message=Star%20Our%20Repository&color=yellow)](https://github.com/phlippe/uvadlc_notebooks/)  If you found this tutorial helpful, consider ⭐-ing our repository.    \n",
                "[![Ask questions](https://img.shields.io/static/v1.svg?logo=star&label=❔&message=Ask%20Questions&color=9cf)](https://github.com/phlippe/uvadlc_notebooks/issues)  For any questions, typos, or bugs that you found, please raise an issue on GitHub. \n",
                "\n",
                "---"
            ]
        },
        {
            "attachments": {},
            "cell_type": "markdown",
            "metadata": {},
            "source": [
                "### Implement a back door from scratch\n",
                "\n",
                "- Choose a backdoood -> Square of 32*32 white\n",
                "- Train with this: every second image contains the backdoor and the class is then cat\n",
                "- Check if the backdoor works: look at the proba distribution with an image with and without backdoor, look if the distribution has shifted for the images without backdoor.\n"
            ]
        }
    ],
    "metadata": {
        "language_info": {
            "name": "python",
            "pygments_lexer": "ipython3"
        }
    },
    "nbformat": 4,
    "nbformat_minor": 0
}
