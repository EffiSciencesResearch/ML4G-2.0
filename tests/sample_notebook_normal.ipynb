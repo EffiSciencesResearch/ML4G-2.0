{
  "cells": [
    {
      "cell_type": "code",
      "execution_count": null,
      "metadata": {},
      "outputs": [],
      "source": [
        "print(\"Always visible\")\n",
        "print(\"Hidden in the hard notebook\")\n",
        "print(\"And this one too\")\n",
        "...  # TODO: ~8 words\n",
        "print(\"Hidden in the solution notebook\")\n",
        "print(\"Visible again\")"
      ]
    },
    {
      "cell_type": "markdown",
      "metadata": {},
      "source": [
        "<details>\n",
        "<summary>Show solution</summary>\n",
        "\n",
        "```python\n",
        "print(\"Always visible\")\n",
        "print(\"Hidden in the hard notebook\")\n",
        "print(\"And this one too\")\n",
        "print(\"Hidden in all notebooks but the solution\")\n",
        "print(\"Visible again\")",
        "\n",
        "```\n",
        "\n",
        "</details>\n",
        "\n"
      ]
    }
  ],
  "metadata": {
    "language_info": {
      "name": "python"
    }
  },
  "nbformat": 4,
  "nbformat_minor": 2
}
