{
 "cells": [
  {
   "cell_type": "code",
   "execution_count": null,
   "metadata": {},
   "outputs": [],
   "source": [
    "print(\"Always visible\")\n",
    "# Hide: hard\n",
    "print(\"Hidden in the hard notebook\")\n",
    "print(\"And this one too\")\n",
    "# Hide: all\n",
    "print(\"Hidden in all notebooks but the solution\")\n",
    "# Hide: solution\n",
    "print(\"Hidden in the solution notebook\")\n",
    "# Hide: none\n",
    "print(\"Visible again\")"
   ]
  }
 ],
 "metadata": {
  "language_info": {
   "name": "python"
  }
 },
 "nbformat": 4,
 "nbformat_minor": 2
}
